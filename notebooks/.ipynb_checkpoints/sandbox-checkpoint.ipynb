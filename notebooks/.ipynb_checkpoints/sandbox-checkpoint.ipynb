{
 "cells": [
  {
   "cell_type": "code",
   "execution_count": 1,
   "metadata": {
    "jupyter": {
     "source_hidden": true
    }
   },
   "outputs": [],
   "source": [
    "import sys\n",
    "import logging\n",
    "\n",
    "import numpy as np\n",
    "import scipy as sp\n",
    "import sklearn\n",
    "import statsmodels.api as sm\n",
    "from statsmodels.formula.api import ols\n",
    "\n",
    "%load_ext autoreload\n",
    "%autoreload 2\n",
    "\n",
    "import matplotlib as mpl\n",
    "import matplotlib.pyplot as plt\n",
    "%matplotlib inline\n",
    "%config InlineBackend.figure_format = 'retina'\n",
    "\n",
    "import seaborn as sns\n",
    "sns.set_context(\"poster\")\n",
    "sns.set(rc={'figure.figsize': (16, 9.)})\n",
    "sns.set_style(\"whitegrid\")\n",
    "\n",
    "import pandas as pd\n",
    "pd.set_option(\"display.max_rows\", 120)\n",
    "pd.set_option(\"display.max_columns\", 120)\n",
    "\n",
    "logging.basicConfig(level=logging.INFO, stream=sys.stdout)"
   ]
  },
  {
   "cell_type": "code",
   "execution_count": 2,
   "metadata": {},
   "outputs": [],
   "source": [
    "directories_and_pathes = [['data',''],['raw',''],['ref',''],['results',''],\n",
    "                          ['work',''],['docs',''],['notebooks',''],['src',''],['tests','']]\n",
    "working_directories = pd.DataFrame(directories_and_pathes,columns=['critical_dirs','absolute_path'])"
   ]
  },
  {
   "cell_type": "code",
   "execution_count": 3,
   "metadata": {},
   "outputs": [
    {
     "data": {
      "text/html": [
       "<div>\n",
       "<style scoped>\n",
       "    .dataframe tbody tr th:only-of-type {\n",
       "        vertical-align: middle;\n",
       "    }\n",
       "\n",
       "    .dataframe tbody tr th {\n",
       "        vertical-align: top;\n",
       "    }\n",
       "\n",
       "    .dataframe thead th {\n",
       "        text-align: right;\n",
       "    }\n",
       "</style>\n",
       "<table border=\"1\" class=\"dataframe\">\n",
       "  <thead>\n",
       "    <tr style=\"text-align: right;\">\n",
       "      <th></th>\n",
       "      <th>critical_dirs</th>\n",
       "      <th>absolute_path</th>\n",
       "    </tr>\n",
       "  </thead>\n",
       "  <tbody>\n",
       "    <tr>\n",
       "      <th>0</th>\n",
       "      <td>data</td>\n",
       "      <td></td>\n",
       "    </tr>\n",
       "    <tr>\n",
       "      <th>1</th>\n",
       "      <td>raw</td>\n",
       "      <td></td>\n",
       "    </tr>\n",
       "    <tr>\n",
       "      <th>2</th>\n",
       "      <td>ref</td>\n",
       "      <td></td>\n",
       "    </tr>\n",
       "    <tr>\n",
       "      <th>3</th>\n",
       "      <td>results</td>\n",
       "      <td></td>\n",
       "    </tr>\n",
       "    <tr>\n",
       "      <th>4</th>\n",
       "      <td>work</td>\n",
       "      <td></td>\n",
       "    </tr>\n",
       "    <tr>\n",
       "      <th>5</th>\n",
       "      <td>docs</td>\n",
       "      <td></td>\n",
       "    </tr>\n",
       "    <tr>\n",
       "      <th>6</th>\n",
       "      <td>notebooks</td>\n",
       "      <td></td>\n",
       "    </tr>\n",
       "    <tr>\n",
       "      <th>7</th>\n",
       "      <td>src</td>\n",
       "      <td></td>\n",
       "    </tr>\n",
       "    <tr>\n",
       "      <th>8</th>\n",
       "      <td>tests</td>\n",
       "      <td></td>\n",
       "    </tr>\n",
       "  </tbody>\n",
       "</table>\n",
       "</div>"
      ],
      "text/plain": [
       "  critical_dirs absolute_path\n",
       "0          data              \n",
       "1           raw              \n",
       "2           ref              \n",
       "3       results              \n",
       "4          work              \n",
       "5          docs              \n",
       "6     notebooks              \n",
       "7           src              \n",
       "8         tests              "
      ]
     },
     "execution_count": 3,
     "metadata": {},
     "output_type": "execute_result"
    }
   ],
   "source": [
    "working_directories"
   ]
  },
  {
   "cell_type": "code",
   "execution_count": 4,
   "metadata": {},
   "outputs": [],
   "source": [
    "#from ecogenie.model import check_dirs"
   ]
  },
  {
   "cell_type": "code",
   "execution_count": 7,
   "metadata": {},
   "outputs": [],
   "source": [
    "import os\n",
    "from os import path\n",
    "\n",
    "def check_dirs(working_directories):\n",
    "    \n",
    "    notebooks_dir = os.path.dirname(os.path.realpath('__file__'))\n",
    "    root_dir = path.abspath(path.join(notebooks_dir, '..'))\n",
    "   \n",
    "    critical_dirs = working_directories['critical_dirs'].values.tolist()\n",
    "\n",
    "    list_and_check_dirs(root_dir, critical_dirs, working_directories)\n",
    "\n",
    "# from: https://stackoverflow.com/questions/9727673/list-directory-tree-structure-in-python\n",
    "def list_and_check_dirs(startpath, critical_dirs, working_directories):\n",
    "    for root, dirs, files in os.walk(startpath):\n",
    "        level = root.replace(startpath, '').count(os.sep)\n",
    "        indent = ' ' * 4 * (level)\n",
    "        if os.path.basename(root) in critical_dirs:\n",
    "#          print('{}/{}/'.format(os.path.dirname(root), os.path.basename(root)))\n",
    "          working_directories.loc[working_directories['critical_dirs'] == os.path.basename(root), \n",
    "                                  'absolute_path'] = os.path.dirname(root) +'/' + os.path.basename(root)\n",
    "        subindent = ' ' * 4 * (level + 1)\n",
    "# missing directories\n",
    "    # ensure that empty fields are set to NaN\n",
    "    working_directories['absolute_path'].replace('', np.nan, inplace=True)\n",
    "    #create a list of indices \n",
    "    missing_dirs=working_directories.iloc[np.where(pd.isnull(working_directories))].index.tolist()\n",
    "    for i in missing_dirs:\n",
    "        print('{} {}/'.format('Missing critical directory: ', working_directories.loc[i,'critical_dirs']))\n",
    "    if not missing_dirs: \n",
    "        print('All critical directories exist and are set in data frame: working_directories')\n",
    "    "
   ]
  },
  {
   "cell_type": "code",
   "execution_count": 8,
   "metadata": {},
   "outputs": [
    {
     "name": "stdout",
     "output_type": "stream",
     "text": [
      "All critical directories exist and are set in data frame: working_directories\n"
     ]
    }
   ],
   "source": [
    "check_dirs(working_directories) "
   ]
  },
  {
   "cell_type": "code",
   "execution_count": null,
   "metadata": {},
   "outputs": [],
   "source": []
  }
 ],
 "metadata": {
  "kernelspec": {
   "display_name": "Python [conda env:ecogenie] *",
   "language": "python",
   "name": "conda-env-ecogenie-py"
  },
  "language_info": {
   "codemirror_mode": {
    "name": "ipython",
    "version": 3
   },
   "file_extension": ".py",
   "mimetype": "text/x-python",
   "name": "python",
   "nbconvert_exporter": "python",
   "pygments_lexer": "ipython3",
   "version": "3.7.5"
  }
 },
 "nbformat": 4,
 "nbformat_minor": 4
}
